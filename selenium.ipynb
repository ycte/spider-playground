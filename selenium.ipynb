{
 "cells": [
  {
   "cell_type": "code",
   "execution_count": 7,
   "metadata": {},
   "outputs": [],
   "source": [
    "MONGO_URL = 'localhost'\n",
    "MONGO_DB = 'taobao'\n",
    "MONGO_COLLECTION = 'products'\n",
    "\n",
    "KEYWORD = 'ipad'\n",
    "\n",
    "MAX_PAGE = 1\n",
    "\n",
    "SERVICE_ARGS = ['--load-images=false', '--disk-cache=true']"
   ]
  },
  {
   "cell_type": "markdown",
   "metadata": {},
   "source": [
    "* module 'selenium.webdriver' has no attribute 'PhantomJS'\n",
    "用 PhantomJS 时先运行下一代码块，然后重启 notebook"
   ]
  },
  {
   "cell_type": "code",
   "execution_count": 8,
   "metadata": {},
   "outputs": [],
   "source": [
    "# %pip uninstall selenium -y\n",
    "# %pip install selenium==2.48.0"
   ]
  },
  {
   "cell_type": "code",
   "execution_count": 9,
   "metadata": {},
   "outputs": [
    {
     "ename": "WebDriverException",
     "evalue": "Message: The browser appears to have exited before we could connect. If you specified a log_file in the FirefoxBinary constructor, check it for details.\n",
     "output_type": "error",
     "traceback": [
      "\u001b[1;31m---------------------------------------------------------------------------\u001b[0m",
      "\u001b[1;31mWebDriverException\u001b[0m                        Traceback (most recent call last)",
      "\u001b[1;32mc:\\Users\\a1526\\Documents\\py-project\\ajupyter\\selenium.ipynb 单元格 4\u001b[0m line \u001b[0;36m1\n\u001b[0;32m      <a href='vscode-notebook-cell:/c%3A/Users/a1526/Documents/py-project/ajupyter/selenium.ipynb#W3sZmlsZQ%3D%3D?line=8'>9</a>\u001b[0m \u001b[39mfrom\u001b[39;00m \u001b[39murllib\u001b[39;00m\u001b[39m.\u001b[39;00m\u001b[39mparse\u001b[39;00m \u001b[39mimport\u001b[39;00m quote\n\u001b[0;32m     <a href='vscode-notebook-cell:/c%3A/Users/a1526/Documents/py-project/ajupyter/selenium.ipynb#W3sZmlsZQ%3D%3D?line=10'>11</a>\u001b[0m \u001b[39m# browser = webdriver.Chrome()\u001b[39;00m\n\u001b[0;32m     <a href='vscode-notebook-cell:/c%3A/Users/a1526/Documents/py-project/ajupyter/selenium.ipynb#W3sZmlsZQ%3D%3D?line=11'>12</a>\u001b[0m \u001b[39m# browser = webdriver.PhantomJS(service_args=SERVICE_ARGS)\u001b[39;00m\n\u001b[0;32m     <a href='vscode-notebook-cell:/c%3A/Users/a1526/Documents/py-project/ajupyter/selenium.ipynb#W3sZmlsZQ%3D%3D?line=12'>13</a>\u001b[0m \n\u001b[0;32m     <a href='vscode-notebook-cell:/c%3A/Users/a1526/Documents/py-project/ajupyter/selenium.ipynb#W3sZmlsZQ%3D%3D?line=13'>14</a>\u001b[0m \u001b[39m# chrome_options = webdriver.ChromeOptions()\u001b[39;00m\n\u001b[0;32m     <a href='vscode-notebook-cell:/c%3A/Users/a1526/Documents/py-project/ajupyter/selenium.ipynb#W3sZmlsZQ%3D%3D?line=14'>15</a>\u001b[0m \u001b[39m# chrome_options.add_argument('--headless')\u001b[39;00m\n\u001b[0;32m     <a href='vscode-notebook-cell:/c%3A/Users/a1526/Documents/py-project/ajupyter/selenium.ipynb#W3sZmlsZQ%3D%3D?line=15'>16</a>\u001b[0m \u001b[39m# browser = webdriver.Chrome(chrome_options=chrome_options)\u001b[39;00m\n\u001b[1;32m---> <a href='vscode-notebook-cell:/c%3A/Users/a1526/Documents/py-project/ajupyter/selenium.ipynb#W3sZmlsZQ%3D%3D?line=17'>18</a>\u001b[0m browser \u001b[39m=\u001b[39m webdriver\u001b[39m.\u001b[39;49mFirefox()\n\u001b[0;32m     <a href='vscode-notebook-cell:/c%3A/Users/a1526/Documents/py-project/ajupyter/selenium.ipynb#W3sZmlsZQ%3D%3D?line=19'>20</a>\u001b[0m \u001b[39m# browser = webdriver.PhantomJS(service_args=SERVICE_ARGS)\u001b[39;00m\n\u001b[0;32m     <a href='vscode-notebook-cell:/c%3A/Users/a1526/Documents/py-project/ajupyter/selenium.ipynb#W3sZmlsZQ%3D%3D?line=23'>24</a>\u001b[0m wait \u001b[39m=\u001b[39m WebDriverWait(browser, \u001b[39m30\u001b[39m)\n",
      "File \u001b[1;32mc:\\Users\\a1526\\AppData\\Local\\Programs\\Python\\Python311\\Lib\\site-packages\\selenium\\webdriver\\firefox\\webdriver.py:76\u001b[0m, in \u001b[0;36mWebDriver.__init__\u001b[1;34m(self, firefox_profile, firefox_binary, timeout, capabilities, proxy, executable_path)\u001b[0m\n\u001b[0;32m     72\u001b[0m     \u001b[39mif\u001b[39;00m proxy \u001b[39mis\u001b[39;00m \u001b[39mnot\u001b[39;00m \u001b[39mNone\u001b[39;00m:\n\u001b[0;32m     73\u001b[0m         proxy\u001b[39m.\u001b[39madd_to_capabilities(capabilities)\n\u001b[0;32m     75\u001b[0m     RemoteWebDriver\u001b[39m.\u001b[39m\u001b[39m__init__\u001b[39m(\u001b[39mself\u001b[39m,\n\u001b[1;32m---> 76\u001b[0m     command_executor\u001b[39m=\u001b[39mExtensionConnection(\u001b[39m\"\u001b[39;49m\u001b[39m127.0.0.1\u001b[39;49m\u001b[39m\"\u001b[39;49m, \u001b[39mself\u001b[39;49m\u001b[39m.\u001b[39;49mprofile,\n\u001b[0;32m     77\u001b[0m     \u001b[39mself\u001b[39;49m\u001b[39m.\u001b[39;49mbinary, timeout),\n\u001b[0;32m     78\u001b[0m     desired_capabilities\u001b[39m=\u001b[39mcapabilities,\n\u001b[0;32m     79\u001b[0m     keep_alive\u001b[39m=\u001b[39m\u001b[39mTrue\u001b[39;00m)\n\u001b[0;32m     82\u001b[0m \u001b[39mself\u001b[39m\u001b[39m.\u001b[39m_is_remote \u001b[39m=\u001b[39m \u001b[39mFalse\u001b[39;00m\n",
      "File \u001b[1;32mc:\\Users\\a1526\\AppData\\Local\\Programs\\Python\\Python311\\Lib\\site-packages\\selenium\\webdriver\\firefox\\extension_connection.py:49\u001b[0m, in \u001b[0;36mExtensionConnection.__init__\u001b[1;34m(self, host, firefox_profile, firefox_binary, timeout)\u001b[0m\n\u001b[0;32m     45\u001b[0m \u001b[39mself\u001b[39m\u001b[39m.\u001b[39mprofile\u001b[39m.\u001b[39mupdate_preferences()\n\u001b[0;32m     47\u001b[0m \u001b[39mself\u001b[39m\u001b[39m.\u001b[39mprofile\u001b[39m.\u001b[39madd_extension()\n\u001b[1;32m---> 49\u001b[0m \u001b[39mself\u001b[39;49m\u001b[39m.\u001b[39;49mbinary\u001b[39m.\u001b[39;49mlaunch_browser(\u001b[39mself\u001b[39;49m\u001b[39m.\u001b[39;49mprofile)\n\u001b[0;32m     50\u001b[0m _URL \u001b[39m=\u001b[39m \u001b[39m\"\u001b[39m\u001b[39mhttp://\u001b[39m\u001b[39m%s\u001b[39;00m\u001b[39m:\u001b[39m\u001b[39m%d\u001b[39;00m\u001b[39m/hub\u001b[39m\u001b[39m\"\u001b[39m \u001b[39m%\u001b[39m (HOST, PORT)\n\u001b[0;32m     51\u001b[0m RemoteConnection\u001b[39m.\u001b[39m\u001b[39m__init__\u001b[39m(\n\u001b[0;32m     52\u001b[0m     \u001b[39mself\u001b[39m, _URL, keep_alive\u001b[39m=\u001b[39m\u001b[39mTrue\u001b[39;00m)\n",
      "File \u001b[1;32mc:\\Users\\a1526\\AppData\\Local\\Programs\\Python\\Python311\\Lib\\site-packages\\selenium\\webdriver\\firefox\\firefox_binary.py:68\u001b[0m, in \u001b[0;36mFirefoxBinary.launch_browser\u001b[1;34m(self, profile)\u001b[0m\n\u001b[0;32m     65\u001b[0m \u001b[39mself\u001b[39m\u001b[39m.\u001b[39mprofile \u001b[39m=\u001b[39m profile\n\u001b[0;32m     67\u001b[0m \u001b[39mself\u001b[39m\u001b[39m.\u001b[39m_start_from_profile_path(\u001b[39mself\u001b[39m\u001b[39m.\u001b[39mprofile\u001b[39m.\u001b[39mpath)\n\u001b[1;32m---> 68\u001b[0m \u001b[39mself\u001b[39;49m\u001b[39m.\u001b[39;49m_wait_until_connectable()\n",
      "File \u001b[1;32mc:\\Users\\a1526\\AppData\\Local\\Programs\\Python\\Python311\\Lib\\site-packages\\selenium\\webdriver\\firefox\\firefox_binary.py:98\u001b[0m, in \u001b[0;36mFirefoxBinary._wait_until_connectable\u001b[1;34m(self)\u001b[0m\n\u001b[0;32m     95\u001b[0m \u001b[39mwhile\u001b[39;00m \u001b[39mnot\u001b[39;00m utils\u001b[39m.\u001b[39mis_connectable(\u001b[39mself\u001b[39m\u001b[39m.\u001b[39mprofile\u001b[39m.\u001b[39mport):\n\u001b[0;32m     96\u001b[0m     \u001b[39mif\u001b[39;00m \u001b[39mself\u001b[39m\u001b[39m.\u001b[39mprocess\u001b[39m.\u001b[39mpoll() \u001b[39mis\u001b[39;00m \u001b[39mnot\u001b[39;00m \u001b[39mNone\u001b[39;00m:\n\u001b[0;32m     97\u001b[0m         \u001b[39m# Browser has exited\u001b[39;00m\n\u001b[1;32m---> 98\u001b[0m         \u001b[39mraise\u001b[39;00m WebDriverException(\u001b[39m\"\u001b[39m\u001b[39mThe browser appears to have exited \u001b[39m\u001b[39m\"\u001b[39m\n\u001b[0;32m     99\u001b[0m               \u001b[39m\"\u001b[39m\u001b[39mbefore we could connect. If you specified a log_file in \u001b[39m\u001b[39m\"\u001b[39m\n\u001b[0;32m    100\u001b[0m               \u001b[39m\"\u001b[39m\u001b[39mthe FirefoxBinary constructor, check it for details.\u001b[39m\u001b[39m\"\u001b[39m)\n\u001b[0;32m    101\u001b[0m     \u001b[39mif\u001b[39;00m count \u001b[39m==\u001b[39m \u001b[39m30\u001b[39m:\n\u001b[0;32m    102\u001b[0m         \u001b[39mself\u001b[39m\u001b[39m.\u001b[39mkill()\n",
      "\u001b[1;31mWebDriverException\u001b[0m: Message: The browser appears to have exited before we could connect. If you specified a log_file in the FirefoxBinary constructor, check it for details.\n"
     ]
    }
   ],
   "source": [
    "# import pymongo\n",
    "from selenium import webdriver\n",
    "from selenium.common.exceptions import TimeoutException\n",
    "from selenium.webdriver.common.by import By\n",
    "from selenium.webdriver.support import expected_conditions as EC\n",
    "from selenium.webdriver.support.wait import WebDriverWait\n",
    "from pyquery import PyQuery as pq\n",
    "# from config import *\n",
    "from urllib.parse import quote\n",
    "\n",
    "# browser = webdriver.Chrome()\n",
    "# browser = webdriver.PhantomJS(service_args=SERVICE_ARGS)\n",
    "\n",
    "# chrome_options = webdriver.ChromeOptions()\n",
    "# chrome_options.add_argument('--headless')\n",
    "# browser = webdriver.Chrome(chrome_options=chrome_options)\n",
    "\n",
    "browser = webdriver.Firefox()\n",
    "\n",
    "# browser = webdriver.PhantomJS(service_args=SERVICE_ARGS)\n",
    "\n",
    "\n",
    "\n",
    "wait = WebDriverWait(browser, 30)\n",
    "'''建议设置时长30s以上'''\n",
    "# client = pymongo.MongoClient(MONGO_URL)\n",
    "# db = client[MONGO_DB]\n",
    "\n",
    "\n",
    "def index_page(page):\n",
    "    \"\"\"\n",
    "    抓取索引页\n",
    "    :param page: 页码\n",
    "    \"\"\"\n",
    "    print('正在爬取第', page, '页')\n",
    "    try:\n",
    "        url = 'https://s.taobao.com/search?q=' + quote(KEYWORD)\n",
    "        browser.get(url)\n",
    "        # if page > 1:\n",
    "        #     input = wait.until(\n",
    "        #         EC.presence_of_element_located((By.CSS_SELECTOR, '#mainsrp-pager div.form > input')))\n",
    "        #     submit = wait.until(\n",
    "        #         EC.element_to_be_clickable((By.CSS_SELECTOR, '#mainsrp-pager div.form > span.btn.J_Submit')))\n",
    "        #     input.clear()\n",
    "        #     input.send_keys(page)\n",
    "        #     submit.click()\n",
    "        print(1)\n",
    "        # wait.until(\n",
    "            # EC.text_to_be_present_in_element((By.CSS_SELECTOR, '#mainsrp-pager li.item.active > span'), str(page)))\n",
    "        print(2)\n",
    "        # print(browser.find_element(By.XPATH, '//div[@data-name=\"itemExp\"]'))\n",
    "        # wait.until(EC.presence_of_element_located((By.XPATH, '//div[@data-name=\"itemExp\"]/div[1]')))\n",
    "        wait.until(EC.presence_of_element_located((By.XPATH, '//div[@id=\"root\"]/div[1]')))\n",
    "        print(browser.find_element(By.XPATH, '//div[@data-name=\"itemExp\"]'))\n",
    "        print(3)\n",
    "        # /html/body/div[2]/div/div[3]/div[1]/div[1]/div[2]/div[3]/div/div[2]/a/div/div[1]/div[1]\n",
    "        # print(browser.page_source)\n",
    "        with open('./test/taobao.html', 'w', encoding='utf-8') as f:\n",
    "            f.write(browser.page_source)\n",
    "        get_products()\n",
    "    except TimeoutException:\n",
    "        index_page(page)\n",
    "\n",
    "\n",
    "def get_products():\n",
    "    \"\"\"\n",
    "    提取商品数据\n",
    "    \"\"\"\n",
    "    html = browser.page_source\n",
    "    doc = pq(html)\n",
    "    items = doc('#mainsrp-itemlist .items .item').items()\n",
    "    for item in items:\n",
    "        product = {\n",
    "            'image': item.find('.pic .img').attr('data-src'),\n",
    "            'price': item.find('.price').text(),\n",
    "            'deal': item.find('.deal-cnt').text(),\n",
    "            'title': item.find('.title').text(),\n",
    "            'shop': item.find('.shop').text(),\n",
    "            'location': item.find('.location').text()\n",
    "        }\n",
    "        print(product)\n",
    "        # save_to_mongo(product)\n",
    "\n",
    "\n",
    "# def save_to_mongo(result):\n",
    "#     \"\"\"\n",
    "#     保存至MongoDB\n",
    "#     :param result: 结果\n",
    "#     \"\"\"\n",
    "#     try:\n",
    "#         if db[MONGO_COLLECTION].insert(result):\n",
    "#             print('存储到MongoDB成功')\n",
    "#     except Exception:\n",
    "#         print('存储到MongoDB失败')\n",
    "\n",
    "\n",
    "\n",
    "def main():\n",
    "    \"\"\"\n",
    "    遍历每一页\n",
    "    \"\"\"\n",
    "    for i in range(1, MAX_PAGE + 1):\n",
    "        index_page(i)\n",
    "    browser.close()\n",
    "\n",
    "\n",
    "if __name__ == '__main__':\n",
    "    main()\n",
    "\n"
   ]
  },
  {
   "cell_type": "code",
   "execution_count": null,
   "metadata": {},
   "outputs": [
    {
     "name": "stdout",
     "output_type": "stream",
     "text": [
      "Found existing installation: selenium 2.48.0\n",
      "Uninstalling selenium-2.48.0:\n",
      "  Successfully uninstalled selenium-2.48.0\n",
      "Note: you may need to restart the kernel to use updated packages.\n",
      "Collecting selenium\n",
      "  Using cached selenium-4.14.0-py3-none-any.whl (9.9 MB)\n",
      "Requirement already satisfied: urllib3[socks]<3,>=1.26 in c:\\users\\a1526\\appdata\\local\\programs\\python\\python311\\lib\\site-packages (from selenium) (2.0.6)\n",
      "Requirement already satisfied: trio~=0.17 in c:\\users\\a1526\\appdata\\local\\programs\\python\\python311\\lib\\site-packages (from selenium) (0.22.2)\n",
      "Requirement already satisfied: trio-websocket~=0.9 in c:\\users\\a1526\\appdata\\local\\programs\\python\\python311\\lib\\site-packages (from selenium) (0.11.1)\n",
      "Requirement already satisfied: certifi>=2021.10.8 in c:\\users\\a1526\\appdata\\local\\programs\\python\\python311\\lib\\site-packages (from selenium) (2023.7.22)\n",
      "Requirement already satisfied: attrs>=20.1.0 in c:\\users\\a1526\\appdata\\local\\programs\\python\\python311\\lib\\site-packages (from trio~=0.17->selenium) (23.1.0)\n",
      "Requirement already satisfied: sortedcontainers in c:\\users\\a1526\\appdata\\local\\programs\\python\\python311\\lib\\site-packages (from trio~=0.17->selenium) (2.4.0)\n",
      "Requirement already satisfied: idna in c:\\users\\a1526\\appdata\\local\\programs\\python\\python311\\lib\\site-packages (from trio~=0.17->selenium) (3.4)\n",
      "Requirement already satisfied: outcome in c:\\users\\a1526\\appdata\\local\\programs\\python\\python311\\lib\\site-packages (from trio~=0.17->selenium) (1.3.0)\n",
      "Requirement already satisfied: sniffio in c:\\users\\a1526\\appdata\\local\\programs\\python\\python311\\lib\\site-packages (from trio~=0.17->selenium) (1.3.0)\n",
      "Requirement already satisfied: cffi>=1.14 in c:\\users\\a1526\\appdata\\local\\programs\\python\\python311\\lib\\site-packages (from trio~=0.17->selenium) (1.16.0)\n",
      "Requirement already satisfied: wsproto>=0.14 in c:\\users\\a1526\\appdata\\local\\programs\\python\\python311\\lib\\site-packages (from trio-websocket~=0.9->selenium) (1.2.0)\n",
      "Requirement already satisfied: pysocks!=1.5.7,<2.0,>=1.5.6 in c:\\users\\a1526\\appdata\\local\\programs\\python\\python311\\lib\\site-packages (from urllib3[socks]<3,>=1.26->selenium) (1.7.1)\n",
      "Requirement already satisfied: pycparser in c:\\users\\a1526\\appdata\\local\\programs\\python\\python311\\lib\\site-packages (from cffi>=1.14->trio~=0.17->selenium) (2.21)\n",
      "Requirement already satisfied: h11<1,>=0.9.0 in c:\\users\\a1526\\appdata\\local\\programs\\python\\python311\\lib\\site-packages (from wsproto>=0.14->trio-websocket~=0.9->selenium) (0.14.0)\n",
      "Installing collected packages: selenium\n",
      "Successfully installed selenium-4.14.0\n",
      "Note: you may need to restart the kernel to use updated packages.\n"
     ]
    },
    {
     "name": "stderr",
     "output_type": "stream",
     "text": [
      "\n",
      "[notice] A new release of pip available: 22.3 -> 23.3\n",
      "[notice] To update, run: python.exe -m pip install --upgrade pip\n"
     ]
    }
   ],
   "source": [
    "%pip uninstall selenium -y\n",
    "%pip install selenium"
   ]
  }
 ],
 "metadata": {
  "kernelspec": {
   "display_name": "Python 3",
   "language": "python",
   "name": "python3"
  },
  "language_info": {
   "codemirror_mode": {
    "name": "ipython",
    "version": 3
   },
   "file_extension": ".py",
   "mimetype": "text/x-python",
   "name": "python",
   "nbconvert_exporter": "python",
   "pygments_lexer": "ipython3",
   "version": "3.11.0"
  }
 },
 "nbformat": 4,
 "nbformat_minor": 2
}
