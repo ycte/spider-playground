{
 "cells": [
  {
   "cell_type": "code",
   "execution_count": 20,
   "metadata": {},
   "outputs": [],
   "source": [
    "from urllib.parse import urlencode\n",
    "import requests\n",
    "base_url = \"https://m.weibo.cn/api/container/getIndex?\"\n",
    "\n",
    "headers = {\n",
    "  'Host': 'm.weibo.cn',\n",
    "  'User-Agent': 'Mozilla/5.0 (Windows NT 10.0; Win64; x64; rv:109.0) Gecko/20100101 Firefox/118.0',\n",
    "  'X-Requested-With': 'XMLHttpRequest',\n",
    "  'Referer': 'https://m.weibo.cn/u/2830678475?luicode=10000011&lfid=1005052830678475',\n",
    "}\n",
    "\n",
    "def get_page(since_id):\n",
    "  params = {\n",
    "    'luicode': '10000011',\n",
    "    'lfid': '1005052830678475',\n",
    "    'type': 'uid',\n",
    "    'value': '2830678475',\n",
    "    'containerid': '1076032830678475', \n",
    "  }\n",
    "  if since_id:\n",
    "    params['since_id'] = since_id\n",
    "  url = base_url + urlencode(params)\n",
    "  try:\n",
    "    response = requests.get(url, headers=headers)\n",
    "    if response.status_code == 200:\n",
    "      return response.json()\n",
    "  except requests.ConnectionError as e:\n",
    "    print('Error', e.args)"
   ]
  },
  {
   "cell_type": "code",
   "execution_count": 21,
   "metadata": {},
   "outputs": [],
   "source": [
    "from pyquery import PyQuery as pq\n",
    "\n",
    "def parse_page(json):\n",
    "  if json:\n",
    "    items = json.get('data').get('cards')\n",
    "    for item in items:\n",
    "      item = item.get('mblog')\n",
    "      weibo = {}\n",
    "      weibo['id'] = item.get('id')\n",
    "      weibo['text'] = pq(item.get('text')).text()\n",
    "      weibo['attitudes'] = item.get('attitudes_count')\n",
    "      weibo['comments'] = item.get('comments_count')\n",
    "      weibo['reposts'] = item.get('reposts_count')\n",
    "      yield weibo\n",
    "\n",
    "# TODO: try/except\n",
    "def parse_since_id(json):\n",
    "  if json:\n",
    "    return json.get('data').get('cardlistInfo').get('since_id')"
   ]
  },
  {
   "cell_type": "code",
   "execution_count": 23,
   "metadata": {},
   "outputs": [
    {
     "name": "stdout",
     "output_type": "stream",
     "text": [
      "3968761201544157\n",
      "since_id: 3963629110332444\n",
      "since_id: 3963451573351990\n",
      "since_id: 3961759339772693\n",
      "since_id: 3961759247773225\n",
      "since_id: 3923451872320948\n",
      "since_id: 3922021186601482\n",
      "since_id: 3920240553518416\n",
      "since_id: 3919684296954068\n",
      "since_id: 3919366179433890\n",
      "since_id: 3917938946242737\n",
      "since_id: 3917358768995870\n",
      "since_id: 3913359315132600\n",
      "since_id: 3911936665828432\n",
      "since_id: 3911076251394753\n",
      "since_id: 3910182134313729\n",
      "since_id: 3907914693463523\n",
      "since_id: 3907203809304192\n",
      "since_id: 3904736761354733\n",
      "since_id: 3900392678904634\n",
      "since_id: 3899670067850170\n",
      "since_id: 3896788429395769\n"
     ]
    },
    {
     "ename": "AttributeError",
     "evalue": "'NoneType' object has no attribute 'get'",
     "output_type": "error",
     "traceback": [
      "\u001b[1;31m---------------------------------------------------------------------------\u001b[0m",
      "\u001b[1;31mAttributeError\u001b[0m                            Traceback (most recent call last)",
      "\u001b[1;32mc:\\Users\\a1526\\Documents\\py-project\\ajupyter\\ajax.ipynb 单元格 3\u001b[0m line \u001b[0;36m1\n\u001b[0;32m     <a href='vscode-notebook-cell:/c%3A/Users/a1526/Documents/py-project/ajupyter/ajax.ipynb#W3sZmlsZQ%3D%3D?line=13'>14</a>\u001b[0m \u001b[39mwhile\u001b[39;00m since_id:\n\u001b[0;32m     <a href='vscode-notebook-cell:/c%3A/Users/a1526/Documents/py-project/ajupyter/ajax.ipynb#W3sZmlsZQ%3D%3D?line=14'>15</a>\u001b[0m   json \u001b[39m=\u001b[39m get_page(since_id)\n\u001b[1;32m---> <a href='vscode-notebook-cell:/c%3A/Users/a1526/Documents/py-project/ajupyter/ajax.ipynb#W3sZmlsZQ%3D%3D?line=15'>16</a>\u001b[0m   since_id \u001b[39m=\u001b[39m parse_since_id(json)\n\u001b[0;32m     <a href='vscode-notebook-cell:/c%3A/Users/a1526/Documents/py-project/ajupyter/ajax.ipynb#W3sZmlsZQ%3D%3D?line=16'>17</a>\u001b[0m   results \u001b[39m=\u001b[39m parse_page(json)\n\u001b[0;32m     <a href='vscode-notebook-cell:/c%3A/Users/a1526/Documents/py-project/ajupyter/ajax.ipynb#W3sZmlsZQ%3D%3D?line=17'>18</a>\u001b[0m   \u001b[39mprint\u001b[39m(\u001b[39m\"\u001b[39m\u001b[39msince_id:\u001b[39m\u001b[39m\"\u001b[39m, since_id)\n",
      "\u001b[1;32mc:\\Users\\a1526\\Documents\\py-project\\ajupyter\\ajax.ipynb 单元格 3\u001b[0m line \u001b[0;36m1\n\u001b[0;32m     <a href='vscode-notebook-cell:/c%3A/Users/a1526/Documents/py-project/ajupyter/ajax.ipynb#W3sZmlsZQ%3D%3D?line=15'>16</a>\u001b[0m \u001b[39mdef\u001b[39;00m \u001b[39mparse_since_id\u001b[39m(json):\n\u001b[0;32m     <a href='vscode-notebook-cell:/c%3A/Users/a1526/Documents/py-project/ajupyter/ajax.ipynb#W3sZmlsZQ%3D%3D?line=16'>17</a>\u001b[0m   \u001b[39mif\u001b[39;00m json:\n\u001b[1;32m---> <a href='vscode-notebook-cell:/c%3A/Users/a1526/Documents/py-project/ajupyter/ajax.ipynb#W3sZmlsZQ%3D%3D?line=17'>18</a>\u001b[0m     \u001b[39mreturn\u001b[39;00m json\u001b[39m.\u001b[39;49mget(\u001b[39m'\u001b[39;49m\u001b[39mdata\u001b[39;49m\u001b[39m'\u001b[39;49m)\u001b[39m.\u001b[39;49mget(\u001b[39m'\u001b[39;49m\u001b[39mcardlistInfo\u001b[39;49m\u001b[39m'\u001b[39;49m)\u001b[39m.\u001b[39;49mget(\u001b[39m'\u001b[39m\u001b[39msince_id\u001b[39m\u001b[39m'\u001b[39m)\n",
      "\u001b[1;31mAttributeError\u001b[0m: 'NoneType' object has no attribute 'get'"
     ]
    }
   ],
   "source": [
    "import csv\n",
    "if __name__ == '__main__':\n",
    "  json = get_page(0)\n",
    "  # print(json)\n",
    "  since_id = parse_since_id(json)\n",
    "  print(since_id)\n",
    "  results = parse_page(json)\n",
    "  with open('weibo.csv', 'w', encoding='utf-8') as csvfile:\n",
    "    fieldnames = ['id', 'text', 'attitudes', 'comments', 'reposts']\n",
    "    writer = csv.DictWriter(csvfile, fieldnames=fieldnames)\n",
    "    writer.writeheader()\n",
    "    for result in results:\n",
    "      writer.writerow(result)\n",
    "  while since_id:\n",
    "    json = get_page(since_id)\n",
    "    since_id = parse_since_id(json)\n",
    "    results = parse_page(json)\n",
    "    print(\"since_id:\", since_id)\n",
    "    with open('weibo.csv', 'a', encoding='utf-8') as csvfile:\n",
    "      fieldnames = ['id', 'text', 'attitudes', 'comments', 'reposts']\n",
    "      writer = csv.DictWriter(csvfile, fieldnames=fieldnames)\n",
    "      # writer.writeheader()\n",
    "      for result in results:\n",
    "        writer.writerow(result)"
   ]
  }
 ],
 "metadata": {
  "kernelspec": {
   "display_name": "Python 3",
   "language": "python",
   "name": "python3"
  },
  "language_info": {
   "codemirror_mode": {
    "name": "ipython",
    "version": 3
   },
   "file_extension": ".py",
   "mimetype": "text/x-python",
   "name": "python",
   "nbconvert_exporter": "python",
   "pygments_lexer": "ipython3",
   "version": "3.11.0"
  }
 },
 "nbformat": 4,
 "nbformat_minor": 2
}
