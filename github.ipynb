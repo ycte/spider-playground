{
 "cells": [
  {
   "cell_type": "code",
   "execution_count": 5,
   "metadata": {},
   "outputs": [],
   "source": [
    "import requests\n",
    "from lxml import etree\n",
    "\n",
    "\n",
    "class Login(object):\n",
    "  def __init__(self):\n",
    "    self.headers = {\n",
    "      'Referer': 'https://github.com/',\n",
    "      'User-Agent': 'Mozilla/5.0 (Windows NT 10.0; Win64; x64) AppleWebKit/537.36 (KHTML, like Gecko) Chrome/70.0.3538.110 Safari/537.36',\n",
    "      'Host': 'github.com',\n",
    "    }\n",
    "    self.headers1 = {\n",
    "      'Referer': 'https://github.com/sessions/two-factor',\n",
    "      'Origin': 'https://github.com',\n",
    "      'User-Agent': 'Mozilla/5.0 (Windows NT 10.0; Win64; x64) AppleWebKit/537.36 (KHTML, like Gecko) Chrome/70.0.3538.110 Safari/537.36',\n",
    "      'Host': 'github.com',\n",
    "\n",
    "    }\n",
    "    self.login_url = 'https://github.com/login'\n",
    "    self.post_url = 'https://github.com/session'\n",
    "    self.two_factor_url = 'https://github.com/sessions/two_factor'\n",
    "    self.logined_url = 'https://github.com/settings/profile'\n",
    "    self.session = requests.session()\n",
    "\n",
    "  def token(self):\n",
    "    response = self.session.get(self.login_url, headers=self.headers)\n",
    "    selector = etree.HTML(response.text)\n",
    "    token = selector.xpath('//form/input[1]/@value')[0]\n",
    "    print(token) # TODO:\n",
    "    return token\n",
    "  \n",
    "  def login(self, username, password):\n",
    "    data = {\n",
    "      'commit': 'Sign in',\n",
    "      'utf8': '✓',\n",
    "      'authenticity_token': self.token(),\n",
    "      'login': username,\n",
    "      'password': password,\n",
    "    }\n",
    "    data1 = {}\n",
    "    response = self.session.post(self.post_url, data=data, headers=self.headers)\n",
    "    if response.status_code == 200:\n",
    "      # print(response.text)\n",
    "      with open('./test/login.html', 'w', encoding='utf-8') as f:\n",
    "        f.write(response.text)\n",
    "      # self.dynamics(response.text)\n",
    "      selector = etree.HTML(response.text)\n",
    "      token = selector.xpath('//form/input[1]/@value')[0]\n",
    "      data1['authenticity_token'] = token\n",
    "      data1['app_otp'] = input('请输入动态密码:')\n",
    "\n",
    "    # TODO: two-factor\n",
    "    print(data1)\n",
    "    response = self.session.post(self.two_factor_url, data=data1, headers=self.headers1)\n",
    "    with open('./test/two_factor.html', 'w', encoding='utf-8') as f:\n",
    "      f.write(response.text)\n",
    "      print(response.status_code)\n",
    "    if response.status_code == 200:\n",
    "      print(1)\n",
    "      \n",
    "\n",
    "    response = self.session.get(self.logined_url, headers=self.headers)\n",
    "    if response.status_code == 200:\n",
    "      # self.profile(response.text)\n",
    "      with open('./test/profile.html', 'w', encoding='utf-8') as f:\n",
    "        f.write(response.text)\n",
    "  \n",
    "  def dynamics(self, html):\n",
    "    selector = etree.HTML(html)\n",
    "    dynamics = selector.xpath('//div[contains(@class, \"news\")]//div[contains(@class, \"alert\")]')\n",
    "    for item in dynamics:\n",
    "      dynamic = ' '.join(item.xpath('.//div[@class=\"title\"]//text()')).strip()\n",
    "      print(dynamic)\n",
    "\n",
    "  def profile(self, html):\n",
    "    selector = etree.HTML(html)\n",
    "    name = selector.xpath('//div[@id=\"user_profile_name\"]/@value')[0]\n",
    "    email = selector.xpath('//div[@id=\"user_profile_email\"]/option[@value=\"\"]/text()')[0]\n",
    "    print(name, email)"
   ]
  },
  {
   "cell_type": "code",
   "execution_count": 6,
   "metadata": {},
   "outputs": [
    {
     "name": "stdout",
     "output_type": "stream",
     "text": [
      "99/ypyYz4hCJCvjjMSJxlGfn47IfhYrHs+Rg3sp0lvjCzJf8bQzRBWxce1ulJiEvg61ctazNnjcMath5YIiBqA==\n",
      "{'authenticity_token': 'SwnO32n5zcoMCUU3yMIr7fjipibD1QWVjTSfTxk50Lh8bOoq0nN_KXoggggGX8ytWphgmclj2sxTPK0CZtAx4g', 'app_otp': '915036'}\n",
      "422\n"
     ]
    }
   ],
   "source": [
    "\n",
    "if __name__ == '__main__':\n",
    "  login = Login()\n",
    "  login.login(username='yuncxa', password='448465477abcde')\n"
   ]
  },
  {
   "cell_type": "code",
   "execution_count": null,
   "metadata": {},
   "outputs": [],
   "source": [
    "\n",
    "  \n",
    "  "
   ]
  }
 ],
 "metadata": {
  "kernelspec": {
   "display_name": "Python 3",
   "language": "python",
   "name": "python3"
  },
  "language_info": {
   "codemirror_mode": {
    "name": "ipython",
    "version": 3
   },
   "file_extension": ".py",
   "mimetype": "text/x-python",
   "name": "python",
   "nbconvert_exporter": "python",
   "pygments_lexer": "ipython3",
   "version": "3.11.0"
  }
 },
 "nbformat": 4,
 "nbformat_minor": 2
}
